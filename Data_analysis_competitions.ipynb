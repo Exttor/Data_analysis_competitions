{
 "cells": [
  {
   "cell_type": "markdown",
   "id": "38515a31",
   "metadata": {},
   "source": [
    "# Открываем данные для обучения"
   ]
  },
  {
   "cell_type": "code",
   "execution_count": 40,
   "id": "89141cdb",
   "metadata": {},
   "outputs": [],
   "source": [
    "import pandas as pd\n",
    " \n",
    "data = pd.read_csv('train-Copy1.csv')"
   ]
  },
  {
   "cell_type": "markdown",
   "id": "4109047a",
   "metadata": {},
   "source": [
    "# Проверяем, есть ли пропуски в базе данных"
   ]
  },
  {
   "cell_type": "code",
   "execution_count": 60,
   "id": "86c43231",
   "metadata": {},
   "outputs": [
    {
     "name": "stdout",
     "output_type": "stream",
     "text": [
      "Target                          0\n",
      "Alcohol                         0\n",
      "Malic acid                      0\n",
      "Ash                             0\n",
      "Alcalinity of ash               0\n",
      "Magnesium                       0\n",
      "Total phenols                   0\n",
      "Flavanoids                      0\n",
      "Nonflavanoid phenols            0\n",
      "Proanthocyanins                 0\n",
      "Color intensity                 0\n",
      "Hue                             0\n",
      "OD280/OD315 of diluted wines    0\n",
      "Proline                         0\n",
      "dtype: int64\n"
     ]
    }
   ],
   "source": [
    "print(data.isna().sum())"
   ]
  },
  {
   "cell_type": "markdown",
   "id": "3d5a5c02",
   "metadata": {},
   "source": [
    "# Модель обучения"
   ]
  },
  {
   "cell_type": "code",
   "execution_count": 41,
   "id": "8622d5b2",
   "metadata": {},
   "outputs": [],
   "source": [
    "# Импорт всех нужных библитотек\n",
    "\n",
    "from sklearn.linear_model import LogisticRegression\n",
    "from sklearn.model_selection import train_test_split\n",
    "from sklearn.pipeline import make_pipeline\n",
    "from sklearn.preprocessing import StandardScaler"
   ]
  },
  {
   "cell_type": "markdown",
   "id": "35bb3341",
   "metadata": {},
   "source": [
    "# Обучение модели"
   ]
  },
  {
   "cell_type": "code",
   "execution_count": 42,
   "id": "1ead8850",
   "metadata": {},
   "outputs": [
    {
     "data": {
      "text/plain": [
       "Pipeline(steps=[('standardscaler', StandardScaler()),\n",
       "                ('logisticregression', LogisticRegression())])"
      ]
     },
     "execution_count": 42,
     "metadata": {},
     "output_type": "execute_result"
    }
   ],
   "source": [
    "X = data.drop(\"Target\", axis = 1) # Переменная Х содержит всё кроме результата\n",
    "y = data[\"Target\"] # Переменная y содерижт только результат\n",
    "\n",
    "X_train, X_test, y_train, y_test = train_test_split(X, y, random_state=1) #Разделяем базу на трен. и обуч. выборки\n",
    "\n",
    "model_ML_logic = make_pipeline(StandardScaler(), LogisticRegression())\n",
    "\n",
    "model_ML_logic.fit(X_train, y_train)"
   ]
  },
  {
   "cell_type": "markdown",
   "id": "b53e9e48",
   "metadata": {},
   "source": [
    "# Проверяем модель"
   ]
  },
  {
   "cell_type": "code",
   "execution_count": 43,
   "id": "82d68427",
   "metadata": {},
   "outputs": [
    {
     "data": {
      "text/plain": [
       "1.0"
      ]
     },
     "execution_count": 43,
     "metadata": {},
     "output_type": "execute_result"
    }
   ],
   "source": [
    "model_ML_logic.score(X_test, y_test)"
   ]
  },
  {
   "cell_type": "markdown",
   "id": "3f842c1e",
   "metadata": {},
   "source": [
    "# Открываем файл для тестирования модели и работем с ним"
   ]
  },
  {
   "cell_type": "code",
   "execution_count": 44,
   "id": "845e9eb9",
   "metadata": {},
   "outputs": [],
   "source": [
    "data_test = pd.read_csv('test-Copy1.csv')"
   ]
  },
  {
   "cell_type": "code",
   "execution_count": 45,
   "id": "92ef0f97",
   "metadata": {},
   "outputs": [
    {
     "data": {
      "text/html": [
       "<div>\n",
       "<style scoped>\n",
       "    .dataframe tbody tr th:only-of-type {\n",
       "        vertical-align: middle;\n",
       "    }\n",
       "\n",
       "    .dataframe tbody tr th {\n",
       "        vertical-align: top;\n",
       "    }\n",
       "\n",
       "    .dataframe thead th {\n",
       "        text-align: right;\n",
       "    }\n",
       "</style>\n",
       "<table border=\"1\" class=\"dataframe\">\n",
       "  <thead>\n",
       "    <tr style=\"text-align: right;\">\n",
       "      <th></th>\n",
       "      <th>index</th>\n",
       "      <th>Alcohol</th>\n",
       "      <th>Malic acid</th>\n",
       "      <th>Ash</th>\n",
       "      <th>Alcalinity of ash</th>\n",
       "      <th>Magnesium</th>\n",
       "      <th>Total phenols</th>\n",
       "      <th>Flavanoids</th>\n",
       "      <th>Nonflavanoid phenols</th>\n",
       "      <th>Proanthocyanins</th>\n",
       "      <th>Color intensity</th>\n",
       "      <th>Hue</th>\n",
       "      <th>OD280/OD315 of diluted wines</th>\n",
       "      <th>Proline</th>\n",
       "    </tr>\n",
       "  </thead>\n",
       "  <tbody>\n",
       "    <tr>\n",
       "      <th>0</th>\n",
       "      <td>1</td>\n",
       "      <td>12.93</td>\n",
       "      <td>2.81</td>\n",
       "      <td>2.70</td>\n",
       "      <td>21.0</td>\n",
       "      <td>96</td>\n",
       "      <td>1.54</td>\n",
       "      <td>0.50</td>\n",
       "      <td>0.53</td>\n",
       "      <td>0.75</td>\n",
       "      <td>4.60</td>\n",
       "      <td>0.77</td>\n",
       "      <td>2.31</td>\n",
       "      <td>600</td>\n",
       "    </tr>\n",
       "    <tr>\n",
       "      <th>1</th>\n",
       "      <td>2</td>\n",
       "      <td>13.17</td>\n",
       "      <td>5.19</td>\n",
       "      <td>2.32</td>\n",
       "      <td>22.0</td>\n",
       "      <td>93</td>\n",
       "      <td>1.74</td>\n",
       "      <td>0.63</td>\n",
       "      <td>0.61</td>\n",
       "      <td>1.55</td>\n",
       "      <td>7.90</td>\n",
       "      <td>0.60</td>\n",
       "      <td>1.48</td>\n",
       "      <td>725</td>\n",
       "    </tr>\n",
       "    <tr>\n",
       "      <th>2</th>\n",
       "      <td>3</td>\n",
       "      <td>12.08</td>\n",
       "      <td>1.33</td>\n",
       "      <td>2.30</td>\n",
       "      <td>23.6</td>\n",
       "      <td>70</td>\n",
       "      <td>2.20</td>\n",
       "      <td>1.59</td>\n",
       "      <td>0.42</td>\n",
       "      <td>1.38</td>\n",
       "      <td>1.74</td>\n",
       "      <td>1.07</td>\n",
       "      <td>3.21</td>\n",
       "      <td>625</td>\n",
       "    </tr>\n",
       "    <tr>\n",
       "      <th>3</th>\n",
       "      <td>4</td>\n",
       "      <td>12.85</td>\n",
       "      <td>1.60</td>\n",
       "      <td>2.52</td>\n",
       "      <td>17.8</td>\n",
       "      <td>95</td>\n",
       "      <td>2.48</td>\n",
       "      <td>2.37</td>\n",
       "      <td>0.26</td>\n",
       "      <td>1.46</td>\n",
       "      <td>3.93</td>\n",
       "      <td>1.09</td>\n",
       "      <td>3.63</td>\n",
       "      <td>1015</td>\n",
       "    </tr>\n",
       "    <tr>\n",
       "      <th>4</th>\n",
       "      <td>5</td>\n",
       "      <td>12.72</td>\n",
       "      <td>1.81</td>\n",
       "      <td>2.20</td>\n",
       "      <td>18.8</td>\n",
       "      <td>86</td>\n",
       "      <td>2.20</td>\n",
       "      <td>2.53</td>\n",
       "      <td>0.26</td>\n",
       "      <td>1.77</td>\n",
       "      <td>3.90</td>\n",
       "      <td>1.16</td>\n",
       "      <td>3.14</td>\n",
       "      <td>714</td>\n",
       "    </tr>\n",
       "    <tr>\n",
       "      <th>...</th>\n",
       "      <td>...</td>\n",
       "      <td>...</td>\n",
       "      <td>...</td>\n",
       "      <td>...</td>\n",
       "      <td>...</td>\n",
       "      <td>...</td>\n",
       "      <td>...</td>\n",
       "      <td>...</td>\n",
       "      <td>...</td>\n",
       "      <td>...</td>\n",
       "      <td>...</td>\n",
       "      <td>...</td>\n",
       "      <td>...</td>\n",
       "      <td>...</td>\n",
       "    </tr>\n",
       "    <tr>\n",
       "      <th>67</th>\n",
       "      <td>68</td>\n",
       "      <td>14.10</td>\n",
       "      <td>2.02</td>\n",
       "      <td>2.40</td>\n",
       "      <td>18.8</td>\n",
       "      <td>103</td>\n",
       "      <td>2.75</td>\n",
       "      <td>2.92</td>\n",
       "      <td>0.32</td>\n",
       "      <td>2.38</td>\n",
       "      <td>6.20</td>\n",
       "      <td>1.07</td>\n",
       "      <td>2.75</td>\n",
       "      <td>1060</td>\n",
       "    </tr>\n",
       "    <tr>\n",
       "      <th>68</th>\n",
       "      <td>69</td>\n",
       "      <td>12.04</td>\n",
       "      <td>4.30</td>\n",
       "      <td>2.38</td>\n",
       "      <td>22.0</td>\n",
       "      <td>80</td>\n",
       "      <td>2.10</td>\n",
       "      <td>1.75</td>\n",
       "      <td>0.42</td>\n",
       "      <td>1.35</td>\n",
       "      <td>2.60</td>\n",
       "      <td>0.79</td>\n",
       "      <td>2.57</td>\n",
       "      <td>580</td>\n",
       "    </tr>\n",
       "    <tr>\n",
       "      <th>69</th>\n",
       "      <td>70</td>\n",
       "      <td>14.37</td>\n",
       "      <td>1.95</td>\n",
       "      <td>2.50</td>\n",
       "      <td>16.8</td>\n",
       "      <td>113</td>\n",
       "      <td>3.85</td>\n",
       "      <td>3.49</td>\n",
       "      <td>0.24</td>\n",
       "      <td>2.18</td>\n",
       "      <td>7.80</td>\n",
       "      <td>0.86</td>\n",
       "      <td>3.45</td>\n",
       "      <td>1480</td>\n",
       "    </tr>\n",
       "    <tr>\n",
       "      <th>70</th>\n",
       "      <td>71</td>\n",
       "      <td>13.73</td>\n",
       "      <td>4.36</td>\n",
       "      <td>2.26</td>\n",
       "      <td>22.5</td>\n",
       "      <td>88</td>\n",
       "      <td>1.28</td>\n",
       "      <td>0.47</td>\n",
       "      <td>0.52</td>\n",
       "      <td>1.15</td>\n",
       "      <td>6.62</td>\n",
       "      <td>0.78</td>\n",
       "      <td>1.75</td>\n",
       "      <td>520</td>\n",
       "    </tr>\n",
       "    <tr>\n",
       "      <th>71</th>\n",
       "      <td>72</td>\n",
       "      <td>12.08</td>\n",
       "      <td>1.13</td>\n",
       "      <td>2.51</td>\n",
       "      <td>24.0</td>\n",
       "      <td>78</td>\n",
       "      <td>2.00</td>\n",
       "      <td>1.58</td>\n",
       "      <td>0.40</td>\n",
       "      <td>1.40</td>\n",
       "      <td>2.20</td>\n",
       "      <td>1.31</td>\n",
       "      <td>2.72</td>\n",
       "      <td>630</td>\n",
       "    </tr>\n",
       "  </tbody>\n",
       "</table>\n",
       "<p>72 rows × 14 columns</p>\n",
       "</div>"
      ],
      "text/plain": [
       "    index  Alcohol  Malic acid   Ash  Alcalinity of ash  Magnesium  \\\n",
       "0       1    12.93        2.81  2.70               21.0         96   \n",
       "1       2    13.17        5.19  2.32               22.0         93   \n",
       "2       3    12.08        1.33  2.30               23.6         70   \n",
       "3       4    12.85        1.60  2.52               17.8         95   \n",
       "4       5    12.72        1.81  2.20               18.8         86   \n",
       "..    ...      ...         ...   ...                ...        ...   \n",
       "67     68    14.10        2.02  2.40               18.8        103   \n",
       "68     69    12.04        4.30  2.38               22.0         80   \n",
       "69     70    14.37        1.95  2.50               16.8        113   \n",
       "70     71    13.73        4.36  2.26               22.5         88   \n",
       "71     72    12.08        1.13  2.51               24.0         78   \n",
       "\n",
       "    Total phenols  Flavanoids  Nonflavanoid phenols  Proanthocyanins  \\\n",
       "0            1.54        0.50                  0.53             0.75   \n",
       "1            1.74        0.63                  0.61             1.55   \n",
       "2            2.20        1.59                  0.42             1.38   \n",
       "3            2.48        2.37                  0.26             1.46   \n",
       "4            2.20        2.53                  0.26             1.77   \n",
       "..            ...         ...                   ...              ...   \n",
       "67           2.75        2.92                  0.32             2.38   \n",
       "68           2.10        1.75                  0.42             1.35   \n",
       "69           3.85        3.49                  0.24             2.18   \n",
       "70           1.28        0.47                  0.52             1.15   \n",
       "71           2.00        1.58                  0.40             1.40   \n",
       "\n",
       "    Color intensity   Hue  OD280/OD315 of diluted wines  Proline  \n",
       "0              4.60  0.77                          2.31      600  \n",
       "1              7.90  0.60                          1.48      725  \n",
       "2              1.74  1.07                          3.21      625  \n",
       "3              3.93  1.09                          3.63     1015  \n",
       "4              3.90  1.16                          3.14      714  \n",
       "..              ...   ...                           ...      ...  \n",
       "67             6.20  1.07                          2.75     1060  \n",
       "68             2.60  0.79                          2.57      580  \n",
       "69             7.80  0.86                          3.45     1480  \n",
       "70             6.62  0.78                          1.75      520  \n",
       "71             2.20  1.31                          2.72      630  \n",
       "\n",
       "[72 rows x 14 columns]"
      ]
     },
     "execution_count": 45,
     "metadata": {},
     "output_type": "execute_result"
    }
   ],
   "source": [
    "data_test"
   ]
  },
  {
   "cell_type": "markdown",
   "id": "593b718f",
   "metadata": {},
   "source": [
    "# Проверяем есть ли пропуски"
   ]
  },
  {
   "cell_type": "code",
   "execution_count": 61,
   "id": "b137ed7a",
   "metadata": {},
   "outputs": [
    {
     "name": "stdout",
     "output_type": "stream",
     "text": [
      "index                           0\n",
      "Alcohol                         0\n",
      "Malic acid                      0\n",
      "Ash                             0\n",
      "Alcalinity of ash               0\n",
      "Magnesium                       0\n",
      "Total phenols                   0\n",
      "Flavanoids                      0\n",
      "Nonflavanoid phenols            0\n",
      "Proanthocyanins                 0\n",
      "Color intensity                 0\n",
      "Hue                             0\n",
      "OD280/OD315 of diluted wines    0\n",
      "Proline                         0\n",
      "dtype: int64\n"
     ]
    }
   ],
   "source": [
    "print(data_test.isna().sum())"
   ]
  },
  {
   "cell_type": "markdown",
   "id": "3f910a6d",
   "metadata": {},
   "source": [
    "# Запуск модели"
   ]
  },
  {
   "cell_type": "code",
   "execution_count": 46,
   "id": "789e7379",
   "metadata": {},
   "outputs": [],
   "source": [
    "Test_out_end = model_ML_logic.predict(data_test.drop(\"index\", axis = 1))\n",
    "data_test_index = pd.DataFrame(data_test[\"index\"])"
   ]
  },
  {
   "cell_type": "code",
   "execution_count": 48,
   "id": "089835e9",
   "metadata": {},
   "outputs": [
    {
     "data": {
      "text/plain": [
       "array([3, 3, 2, 1, 2, 2, 2, 3, 1, 1, 2, 2, 2, 1, 2, 2, 1, 1, 1, 1, 3, 2,\n",
       "       2, 2, 1, 2, 1, 1, 2, 3, 3, 1, 2, 1, 2, 3, 1, 3, 3, 1, 2, 1, 3, 1,\n",
       "       2, 2, 2, 2, 3, 3, 1, 3, 2, 1, 3, 2, 2, 2, 1, 2, 1, 3, 3, 3, 3, 2,\n",
       "       1, 1, 2, 1, 3, 2], dtype=int64)"
      ]
     },
     "execution_count": 48,
     "metadata": {},
     "output_type": "execute_result"
    }
   ],
   "source": [
    "# Результат работы модели\n",
    "\n",
    "Test_out_end"
   ]
  },
  {
   "cell_type": "markdown",
   "id": "c300c667",
   "metadata": {},
   "source": [
    "# Форматируем результат для объединения с data_test_index"
   ]
  },
  {
   "cell_type": "code",
   "execution_count": 49,
   "id": "0a07a643",
   "metadata": {},
   "outputs": [],
   "source": [
    "df_Test_out_end = pd.DataFrame({\"Target\":Test_out_end})"
   ]
  },
  {
   "cell_type": "code",
   "execution_count": 52,
   "id": "20698180",
   "metadata": {},
   "outputs": [],
   "source": [
    "sample_submission = data_test_index.join(df_Test_out_end)"
   ]
  },
  {
   "cell_type": "markdown",
   "id": "ac60b37c",
   "metadata": {},
   "source": [
    "# Сохраняем результат в csv файл"
   ]
  },
  {
   "cell_type": "code",
   "execution_count": 55,
   "id": "ce7e2225",
   "metadata": {},
   "outputs": [],
   "source": [
    "sample_submission.to_csv(\"sample_submission.csv\", sep=',', index=False)"
   ]
  }
 ],
 "metadata": {
  "kernelspec": {
   "display_name": "Python 3",
   "language": "python",
   "name": "python3"
  },
  "language_info": {
   "codemirror_mode": {
    "name": "ipython",
    "version": 3
   },
   "file_extension": ".py",
   "mimetype": "text/x-python",
   "name": "python",
   "nbconvert_exporter": "python",
   "pygments_lexer": "ipython3",
   "version": "3.8.8"
  }
 },
 "nbformat": 4,
 "nbformat_minor": 5
}
